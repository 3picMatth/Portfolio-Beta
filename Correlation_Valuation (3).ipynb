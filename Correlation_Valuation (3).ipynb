{
 "cells": [
  {
   "cell_type": "code",
   "execution_count": 1,
   "id": "addf6072-452c-4222-9c48-6376ca279d51",
   "metadata": {},
   "outputs": [
    {
     "data": {
      "text/html": [
       "<a href='covariance_matrix.xlsx' target='_blank'>covariance_matrix.xlsx</a><br>"
      ],
      "text/plain": [
       "C:\\Users\\Mattia\\Patavino Capitals\\covariance_matrix.xlsx"
      ]
     },
     "execution_count": 1,
     "metadata": {},
     "output_type": "execute_result"
    }
   ],
   "source": [
    "import pandas as pd\n",
    "from IPython.display import FileLink\n",
    "\n",
    "# Carica il file Excel e usa la seconda riga (riga 1 in Python) come intestazioni\n",
    "file_path = r\"C:\\Users\\Mattia\\Desktop\\Patavino Capitals Quant Specialist Task\\Correlation Valuation\\Assets Returns.xlsx\"  # Sostituisci con il tuo file\n",
    "data = pd.read_excel(file_path, header=1)  # Usa la seconda riga come header\n",
    "\n",
    "# Rimuovi la prima riga dei dati e le prime due colonne (titoli e date)\n",
    "data = data.iloc[1:, 2:]  # Escludi la prima riga e le prime due colonne\n",
    "\n",
    "# Ottieni i ticker dalla seconda riga (escludendo le prime due colonne)\n",
    "tickers = pd.read_excel(file_path, header=1).columns[2:]\n",
    "\n",
    "# Calcola la matrice di covarianza\n",
    "covariance_matrix = data.cov()\n",
    "\n",
    "# Imposta i ticker come nomi di riga e colonna\n",
    "covariance_matrix.index = tickers\n",
    "covariance_matrix.columns = tickers\n",
    "\n",
    "# Salva il risultato nella directory corrente\n",
    "output_path = \"covariance_matrix.xlsx\"\n",
    "covariance_matrix.to_excel(output_path, index=True)\n",
    "\n",
    "# Crea un link per il download\n",
    "FileLink(output_path)\n",
    "\n",
    "\n"
   ]
  },
  {
   "cell_type": "code",
   "execution_count": null,
   "id": "cc32c13f-a79a-44e3-8c52-a10fd0aefc94",
   "metadata": {},
   "outputs": [],
   "source": []
  }
 ],
 "metadata": {
  "kernelspec": {
   "display_name": "Python 3 (ipykernel)",
   "language": "python",
   "name": "python3"
  },
  "language_info": {
   "codemirror_mode": {
    "name": "ipython",
    "version": 3
   },
   "file_extension": ".py",
   "mimetype": "text/x-python",
   "name": "python",
   "nbconvert_exporter": "python",
   "pygments_lexer": "ipython3",
   "version": "3.12.7"
  }
 },
 "nbformat": 4,
 "nbformat_minor": 5
}
