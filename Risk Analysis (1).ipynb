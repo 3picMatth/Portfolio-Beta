{
 "cells": [
  {
   "cell_type": "code",
   "execution_count": 1,
   "id": "1cdcd4dc-bb43-4278-92b9-9c76ac3b355d",
   "metadata": {},
   "outputs": [
    {
     "data": {
      "text/html": [
       "<a href='standard_deviations.xlsx' target='_blank'>standard_deviations.xlsx</a><br>"
      ],
      "text/plain": [
       "C:\\Users\\Mattia\\Patavino Capitals\\standard_deviations.xlsx"
      ]
     },
     "execution_count": 1,
     "metadata": {},
     "output_type": "execute_result"
    }
   ],
   "source": [
    "import pandas as pd\n",
    "from IPython.display import FileLink\n",
    "\n",
    "# Carica il file Excel (modifica il percorso con il tuo file reale)\n",
    "file_path = r\"C:\\Users\\Mattia\\Desktop\\Patavino Capitals Quant Specialist Task\\Correlation Valuation\\Assets Returns.xlsx\"  # Sostituisci con il percorso corretto\n",
    "data = pd.read_excel(file_path, header=1)  # Usa la seconda riga (riga 1 in Python) come header\n",
    "\n",
    "# Rimuovi la prima riga e le prime due colonne\n",
    "returns = data.iloc[1:, 2:]  # Escludi la prima riga e le prime due colonne\n",
    "\n",
    "# Ottieni i ticker degli asset\n",
    "tickers = pd.read_excel(file_path, header=1).columns[2:]  # Estrai i ticker dalla seconda riga\n",
    "\n",
    "# Calcola la deviazione standard per ogni asset\n",
    "std_devs = returns.std()\n",
    "\n",
    "# Crea un DataFrame con ticker e deviazione standard\n",
    "std_devs_df = pd.DataFrame({'Ticker': tickers, 'Standard Deviation': std_devs.values})\n",
    "\n",
    "# Salva il risultato in un file Excel\n",
    "output_path = \"standard_deviations.xlsx\"\n",
    "std_devs_df.to_excel(output_path, index=False)\n",
    "\n",
    "# Crea un link per il download\n",
    "FileLink(output_path)\n"
   ]
  },
  {
   "cell_type": "code",
   "execution_count": null,
   "id": "a4541b42-0629-4b2f-b9f6-83218daa245a",
   "metadata": {},
   "outputs": [],
   "source": []
  }
 ],
 "metadata": {
  "kernelspec": {
   "display_name": "Python 3 (ipykernel)",
   "language": "python",
   "name": "python3"
  },
  "language_info": {
   "codemirror_mode": {
    "name": "ipython",
    "version": 3
   },
   "file_extension": ".py",
   "mimetype": "text/x-python",
   "name": "python",
   "nbconvert_exporter": "python",
   "pygments_lexer": "ipython3",
   "version": "3.12.7"
  }
 },
 "nbformat": 4,
 "nbformat_minor": 5
}
