{
 "cells": [
  {
   "cell_type": "code",
   "execution_count": 26,
   "id": "ce93b16d-d2ee-45e9-8a6a-6e9164792e57",
   "metadata": {},
   "outputs": [
    {
     "name": "stdout",
     "output_type": "stream",
     "text": [
      "Ticker Length: 6\n",
      "Beta Length: 6\n",
      "Generic Risk Length: 6\n",
      "Specific Risk Length: 6\n"
     ]
    },
    {
     "data": {
      "text/html": [
       "<a href='specific_generic_risks.xlsx' target='_blank'>specific_generic_risks.xlsx</a><br>"
      ],
      "text/plain": [
       "C:\\Users\\Mattia\\Patavino Capitals\\specific_generic_risks.xlsx"
      ]
     },
     "execution_count": 26,
     "metadata": {},
     "output_type": "execute_result"
    }
   ],
   "source": [
    "import pandas as pd\n",
    "\n",
    "# Percorsi dei file\n",
    "asset_returns_file = r\"C:\\Users\\Mattia\\Desktop\\Patavino Capitals Quant Specialist Task\\Correlation Valuation\\Assets Returns.xlsx\"\n",
    "market_returns_file = r\"C:\\Users\\Mattia\\Desktop\\Patavino Capitals Quant Specialist Task\\Specific and Generic Risk Assesment\\Market Returns.xlsx\"\n",
    "std_file = r\"C:\\Users\\Mattia\\Desktop\\Patavino Capitals Quant Specialist Task\\Risk Analysis\\standard_deviations (1).xlsx\"\n",
    "\n",
    "# Carica i dati\n",
    "asset_returns_df = pd.read_excel(asset_returns_file, header=1).iloc[:, 2:]  # Rendimenti\n",
    "market_returns_df = pd.read_excel(market_returns_file, header=None).iloc[1:, 2].astype(float)  # Rendimenti mercato\n",
    "std_devs_df = pd.read_excel(std_file, header=1)  # Deviazioni standard\n",
    "\n",
    "# Imposta i ticker e rendimenti\n",
    "tickers = std_devs_df.iloc[:, 0].values\n",
    "std_devs = std_devs_df.iloc[:, 1].values\n",
    "\n",
    "# Allinea il numero di ticker con il numero di colonne\n",
    "tickers = tickers[:len(asset_returns.columns)]\n",
    "asset_returns = asset_returns.iloc[:, :len(tickers)]\n",
    "asset_returns.columns = tickers\n",
    "\n",
    "# Calcolo del beta\n",
    "betas = asset_returns.apply(lambda x: x.cov(market_returns_df) / market_returns_df.var(), axis=0)\n",
    "\n",
    "# Calcolo del Generic Risk\n",
    "market_std = market_returns_df.std()\n",
    "generic_risk = betas * market_std\n",
    "\n",
    "# Calcolo del Specific Risk\n",
    "asset_variances = std_devs**2\n",
    "specific_risk = asset_variances[:len(generic_risk)] - (generic_risk**2)\n",
    "\n",
    "# Verifica delle lunghezze\n",
    "print(\"Ticker Length:\", len(tickers))\n",
    "print(\"Beta Length:\", len(betas))\n",
    "print(\"Generic Risk Length:\", len(generic_risk))\n",
    "print(\"Specific Risk Length:\", len(specific_risk))\n",
    "\n",
    "# Crea il DataFrame\n",
    "risk_df = pd.DataFrame({\n",
    "    'Ticker': tickers,\n",
    "    'Beta': betas.values,\n",
    "    'Generic Risk': generic_risk.values,\n",
    "    'Specific Risk': specific_risk.values\n",
    "})\n",
    "\n",
    "# Salva il report\n",
    "risk_output_path = r\"C:\\Users\\Mattia\\Desktop\\Patavino Capitals Quant Specialist Task\\Specific and Generic Risk Assesment\\specific_generic_risks.xlsx\"\n",
    "risk_df.to_excel(risk_output_path, index=False)\n",
    "\n",
    "# Link per il download\n",
    "from IPython.display import FileLink\n",
    "local_risk_output_path = \"specific_generic_risks.xlsx\"\n",
    "\n",
    "risk_df.to_excel(local_risk_output_path, index=False)\n",
    "\n",
    "FileLink(local_risk_output_path)\n"
   ]
  },
  {
   "cell_type": "code",
   "execution_count": null,
   "id": "6ea4169f-7014-4b2b-a2b6-8d5fc4e86868",
   "metadata": {},
   "outputs": [],
   "source": []
  }
 ],
 "metadata": {
  "kernelspec": {
   "display_name": "Python 3 (ipykernel)",
   "language": "python",
   "name": "python3"
  },
  "language_info": {
   "codemirror_mode": {
    "name": "ipython",
    "version": 3
   },
   "file_extension": ".py",
   "mimetype": "text/x-python",
   "name": "python",
   "nbconvert_exporter": "python",
   "pygments_lexer": "ipython3",
   "version": "3.12.7"
  }
 },
 "nbformat": 4,
 "nbformat_minor": 5
}
