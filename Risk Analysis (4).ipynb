{
 "cells": [
  {
   "cell_type": "code",
   "execution_count": 3,
   "id": "1cdcd4dc-bb43-4278-92b9-9c76ac3b355d",
   "metadata": {},
   "outputs": [
    {
     "data": {
      "text/html": [
       "<a href='standard_deviations_combined.xlsx' target='_blank'>standard_deviations_combined.xlsx</a><br>"
      ],
      "text/plain": [
       "C:\\Users\\Mattia\\Patavino Capitals\\standard_deviations_combined.xlsx"
      ]
     },
     "execution_count": 3,
     "metadata": {},
     "output_type": "execute_result"
    }
   ],
   "source": [
    "import pandas as pd\n",
    "from IPython.display import FileLink\n",
    "\n",
    "# File path to the Excel file (replace with your actual file path)\n",
    "file_path =r\"C:\\Users\\Mattia\\Desktop\\Patavino Capitals Quant Specialist Task\\Correlation Valuation\\Assets Returns.xlsx\"  # Replace with the actual file path\n",
    "\n",
    "# Load the Excel file, using the second row as header\n",
    "data = pd.read_excel(file_path, header=1)\n",
    "\n",
    "# Remove the first row of data and the first two columns\n",
    "returns = data.iloc[1:, 2:]\n",
    "\n",
    "# Extract tickers from the second row (header)\n",
    "tickers = pd.read_excel(file_path, header=1).columns[2:]\n",
    "\n",
    "# Calculate daily standard deviations for each asset\n",
    "std_devs = returns.std()\n",
    "\n",
    "# Assume 252 trading days in a year for annualization\n",
    "trading_days_per_year = 252\n",
    "\n",
    "# Calculate annualized standard deviations\n",
    "std_devs_annualized = std_devs * (trading_days_per_year ** 0.5)\n",
    "\n",
    "# Create a DataFrame with tickers and both daily and annualized standard deviations\n",
    "std_devs_combined_df = pd.DataFrame({\n",
    "    'Ticker': tickers,\n",
    "    'Daily Standard Deviation': std_devs.values,\n",
    "    'Annualized Standard Deviation': std_devs_annualized.values\n",
    "})\n",
    "\n",
    "# Save the results to an Excel file\n",
    "output_path = \"standard_deviations_combined.xlsx\"\n",
    "std_devs_combined_df.to_excel(output_path, index=False)\n",
    "\n",
    "# Provide a link for downloading the Excel file\n",
    "FileLink(output_path)\n"
   ]
  },
  {
   "cell_type": "code",
   "execution_count": null,
   "id": "a4541b42-0629-4b2f-b9f6-83218daa245a",
   "metadata": {},
   "outputs": [],
   "source": []
  }
 ],
 "metadata": {
  "kernelspec": {
   "display_name": "Python 3 (ipykernel)",
   "language": "python",
   "name": "python3"
  },
  "language_info": {
   "codemirror_mode": {
    "name": "ipython",
    "version": 3
   },
   "file_extension": ".py",
   "mimetype": "text/x-python",
   "name": "python",
   "nbconvert_exporter": "python",
   "pygments_lexer": "ipython3",
   "version": "3.12.7"
  }
 },
 "nbformat": 4,
 "nbformat_minor": 5
}
