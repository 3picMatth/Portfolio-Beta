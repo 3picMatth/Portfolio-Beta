{
 "cells": [
  {
   "cell_type": "code",
   "execution_count": 7,
   "id": "6043a458-faee-4237-9cde-bb11023ad20c",
   "metadata": {},
   "outputs": [
    {
     "name": "stdout",
     "output_type": "stream",
     "text": [
      "Portfolio Beta: -0.03387038296430167\n"
     ]
    },
    {
     "data": {
      "text/html": [
       "<a href='Portfolio_Beta_Results.xlsx' target='_blank'>Portfolio_Beta_Results.xlsx</a><br>"
      ],
      "text/plain": [
       "C:\\Users\\Mattia\\Patavino Capitals\\Portfolio_Beta_Results.xlsx"
      ]
     },
     "execution_count": 7,
     "metadata": {},
     "output_type": "execute_result"
    }
   ],
   "source": [
    "import pandas as pd\n",
    "\n",
    "# Percorso del file Excel contenente i dati del portafoglio\n",
    "input_file = r\"C:\\Users\\Mattia\\Desktop\\Patavino Capitals Quant Specialist Task\\Specific and Generic Risk Assesment\\beta_specific_generic_risks (1).xlsx\"  # Sostituisci con il tuo percorso\n",
    "\n",
    "# Carica il file Excel\n",
    "data = pd.read_excel(input_file, header=0)  # La prima riga contiene le intestazioni\n",
    "\n",
    "# Verifica che il file contenga le colonne necessarie\n",
    "if 'Ticker' not in data.columns or 'Beta' not in data.columns:\n",
    "    raise ValueError(\"Il file Excel deve contenere le colonne 'Ticker' e 'Beta'.\")\n",
    "\n",
    "# Se sono forniti pesi, usali; altrimenti, calcola equally weighted\n",
    "if 'Weight' in data.columns:\n",
    "    weights = data['Weight']\n",
    "    if not weights.sum().round(5) == 1.0:\n",
    "        raise ValueError(\"La somma dei pesi deve essere uguale a 1.\")\n",
    "else:\n",
    "    weights = [1 / len(data)] * len(data)  # Equally weighted\n",
    "\n",
    "# Calcolo del Beta del portafoglio\n",
    "betas = data['Beta']\n",
    "portfolio_beta = sum(betas * weights)\n",
    "\n",
    "# Crea un DataFrame per i risultati\n",
    "portfolio_beta_df = pd.DataFrame({\n",
    "    'Portfolio Beta': [portfolio_beta]\n",
    "})\n",
    "\n",
    "# Salva i risultati in un file Excel\n",
    "output_file = \"Portfolio_Beta_Results.xlsx\"\n",
    "portfolio_beta_df.to_excel(output_file, index=False)\n",
    "\n",
    "# Stampa il risultato e fornisci un link per il download\n",
    "print(f\"Portfolio Beta: {portfolio_beta}\")\n",
    "from IPython.display import FileLink\n",
    "FileLink(output_file)\n",
    "\n"
   ]
  },
  {
   "cell_type": "code",
   "execution_count": null,
   "id": "2555f842-5c76-4de9-885e-b3db7de9ffd0",
   "metadata": {},
   "outputs": [],
   "source": []
  }
 ],
 "metadata": {
  "kernelspec": {
   "display_name": "Python 3 (ipykernel)",
   "language": "python",
   "name": "python3"
  },
  "language_info": {
   "codemirror_mode": {
    "name": "ipython",
    "version": 3
   },
   "file_extension": ".py",
   "mimetype": "text/x-python",
   "name": "python",
   "nbconvert_exporter": "python",
   "pygments_lexer": "ipython3",
   "version": "3.12.7"
  }
 },
 "nbformat": 4,
 "nbformat_minor": 5
}
